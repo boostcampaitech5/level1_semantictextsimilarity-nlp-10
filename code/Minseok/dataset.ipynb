{
 "cells": [
  {
   "cell_type": "code",
   "execution_count": 55,
   "metadata": {},
   "outputs": [
    {
     "name": "stderr",
     "output_type": "stream",
     "text": [
      "Found cached dataset klue (/opt/ml/.cache/huggingface/datasets/klue/sts/1.0.0/e0fc3bc3de3eb03be2c92d72fd04a60ecc71903f821619cb28ca0e1e29e4233e)\n",
      "100%|██████████| 2/2 [00:00<00:00, 414.70it/s]\n"
     ]
    },
    {
     "data": {
      "text/plain": [
       "DatasetDict({\n",
       "    train: Dataset({\n",
       "        features: ['guid', 'source', 'sentence1', 'sentence2', 'labels'],\n",
       "        num_rows: 11668\n",
       "    })\n",
       "    validation: Dataset({\n",
       "        features: ['guid', 'source', 'sentence1', 'sentence2', 'labels'],\n",
       "        num_rows: 519\n",
       "    })\n",
       "})"
      ]
     },
     "execution_count": 55,
     "metadata": {},
     "output_type": "execute_result"
    }
   ],
   "source": [
    "import pandas as pd\n",
    "from datasets import load_dataset\n",
    "\n",
    "data = load_dataset(\"klue\", \"sts\")\n",
    "data"
   ]
  },
  {
   "cell_type": "code",
   "execution_count": 53,
   "metadata": {},
   "outputs": [
    {
     "name": "stdout",
     "output_type": "stream",
     "text": [
      "숙소 위치는 찾기 쉽고 일반적인 한국의 반지하 숙소입니다.\n",
      "3.714285714285714\n"
     ]
    }
   ],
   "source": [
    "list_id = []\n",
    "list_source = []\n",
    "list_sentence_1 = []\n",
    "list_sentence_2 = []\n",
    "list_label = []\n",
    "list_b_label = []\n",
    "\n",
    "for idx, item in enumerate(data[\"train\"]):\n",
    "    list_id.append(item[\"guid\"])\n",
    "    list_source.append(item[\"source\"])\n",
    "    list_sentence_1.append(item[\"sentence1\"])\n",
    "    list_sentence_2.append(item[\"sentence2\"])\n",
    "    list_label.append(item[\"labels\"][\"label\"])\n",
    "    list_b_label.append(item[\"labels\"][\"binary-label\"])\n",
    "\n",
    "print(data[\"train\"][0][\"sentence1\"])\n",
    "print(data[\"train\"][0][\"labels\"][\"real-label\"])"
   ]
  },
  {
   "cell_type": "code",
   "execution_count": 57,
   "metadata": {},
   "outputs": [],
   "source": [
    "dataframe = {\"id\": list_id, \n",
    "             \"source\": list_source, \n",
    "             \"sentence_1\": list_sentence_1,\n",
    "             \"sentence_2\": list_sentence_2,\n",
    "             \"label\": list_label,\n",
    "             \"binary-label\": list_b_label}\n",
    "\n",
    "df = pd.DataFrame(data=dataframe)\n",
    "df.to_csv(\"new_dataset.csv\", index=False)"
   ]
  }
 ],
 "metadata": {
  "kernelspec": {
   "display_name": "Python 3 (ipykernel)",
   "language": "python",
   "name": "python3"
  },
  "language_info": {
   "codemirror_mode": {
    "name": "ipython",
    "version": 3
   },
   "file_extension": ".py",
   "mimetype": "text/x-python",
   "name": "python",
   "nbconvert_exporter": "python",
   "pygments_lexer": "ipython3",
   "version": "3.8.5"
  },
  "orig_nbformat": 4
 },
 "nbformat": 4,
 "nbformat_minor": 2
}
